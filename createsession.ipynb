{
 "cells": [
  {
   "cell_type": "code",
   "execution_count": 1,
   "id": "f996024f-6158-4fad-a4ce-f611dcf20a01",
   "metadata": {},
   "outputs": [
    {
     "name": "stdout",
     "output_type": "stream",
     "text": [
      "\n",
      "🔍 Searching for: FOC\n"
     ]
    },
    {
     "name": "stderr",
     "output_type": "stream",
     "text": [
      "C:\\Users\\abdirahman\\Desktop\\Face_Recognition\\legacyenv\\lib\\site-packages\\google\\cloud\\firestore_v1\\base_collection.py:304: UserWarning: Detected filter using positional arguments. Prefer using the 'filter' keyword argument instead.\n",
      "  return query.where(field_path, op_string, value)\n"
     ]
    },
    {
     "name": "stdout",
     "output_type": "stream",
     "text": [
      "✅ Found: AeRMJwkYXU0hFGRELx42 → {'Name': 'FOC'}\n",
      "\n",
      "🔍 Searching for: CS\n",
      "✅ Found: 8hROWXp4jP2hI1FOlUva → {'Name': 'CS'}\n",
      "\n",
      "🔍 Searching for: BCS15B\n",
      "✅ Found: 542nAO1705nO3HBEGWyH → {'Name': 'BCS15B'}\n",
      "\n",
      "📚 Listing all available courses before searching for DIP:\n",
      " - 50a7SnMNqZ7x0R4YMhSa: {'Name': 'CAT'}\n",
      " - nfTNomGS7vMvjvC4ujXO: {'Name': 'AI'}\n",
      " - xEviw1UfoNDflkIhjaTK: {'Name': 'Ethics'}\n",
      "\n",
      "🔍 Searching for: CAT\n",
      "✅ Found: 50a7SnMNqZ7x0R4YMhSa → {'Name': 'CAT'}\n",
      "\n",
      "✅ Session added successfully under dynamic structure.\n"
     ]
    }
   ],
   "source": [
    "import firebase_admin\n",
    "from firebase_admin import credentials, firestore\n",
    "from datetime import datetime, timedelta\n",
    "import pytz\n",
    "\n",
    "# === Initialize Firebase ===\n",
    "if not firebase_admin._apps:\n",
    "    cred = credentials.Certificate(\"serviceAccountKey.json\")\n",
    "    firebase_admin.initialize_app(cred)\n",
    "\n",
    "db = firestore.client()\n",
    "tz = pytz.timezone(\"Africa/Mogadishu\")\n",
    "start = datetime.now(tz)\n",
    "end = start + timedelta(minutes=20)\n",
    "\n",
    "# === Function to get document ID by 'Name' with full debug ===\n",
    "def get_doc_id_by_name(collection_ref, name):\n",
    "    print(f\"\\n🔍 Searching for: {name}\")\n",
    "    docs = collection_ref.where(\"Name\", \"==\", name).limit(1).stream()\n",
    "    for doc in docs:\n",
    "        print(f\"✅ Found: {doc.id} → {doc.to_dict()}\")\n",
    "        return doc.id\n",
    "\n",
    "    print(\"❌ No exact match found. Listing all documents in this collection:\")\n",
    "    all_docs = collection_ref.stream()\n",
    "    for doc in all_docs:\n",
    "        print(f\" - {doc.id}: {doc.to_dict()}\")\n",
    "    raise Exception(f\"\\n❌ '{name}' not found in collection.\\n\")\n",
    "\n",
    "# === Dynamic ID fetching ===\n",
    "faculty_id = get_doc_id_by_name(db.collection(\"faculties\"), \"FOC\")\n",
    "department_id = get_doc_id_by_name(\n",
    "    db.collection(\"faculties\").document(faculty_id).collection(\"departments\"), \"CS\"\n",
    ")\n",
    "class_id = get_doc_id_by_name(\n",
    "    db.collection(\"faculties\").document(faculty_id)\n",
    "        .collection(\"departments\").document(department_id)\n",
    "        .collection(\"classes\"),\n",
    "    \"BCS15B\"\n",
    ")\n",
    "\n",
    "# Optional debug: List all available courses\n",
    "print(\"\\n📚 Listing all available courses before searching for DIP:\")\n",
    "course_collection = db.collection(\"faculties\").document(faculty_id) \\\n",
    "    .collection(\"departments\").document(department_id) \\\n",
    "    .collection(\"classes\").document(class_id) \\\n",
    "    .collection(\"courses\")\n",
    "\n",
    "for doc in course_collection.stream():\n",
    "    print(f\" - {doc.id}: {doc.to_dict()}\")\n",
    "\n",
    "course_id = get_doc_id_by_name(course_collection, \"CAT\")\n",
    "\n",
    "# === Add session document ===\n",
    "session_ref = db.collection(\"faculties\").document(faculty_id) \\\n",
    "    .collection(\"departments\").document(department_id) \\\n",
    "    .collection(\"classes\").document(class_id) \\\n",
    "    .collection(\"courses\").document(course_id) \\\n",
    "    .collection(\"sessions\")\n",
    "\n",
    "session_ref.add({\n",
    "    \"subject\": \"CAT\",\n",
    "    \"start_time\": start,\n",
    "    \"end_time\": end,\n",
    "    \"course_id\": course_id,\n",
    "    \"class_id\": class_id\n",
    "})\n",
    "\n",
    "print(\"\\n✅ Session added successfully under dynamic structure.\")\n"
   ]
  },
  {
   "cell_type": "code",
   "execution_count": null,
   "id": "c529bce4-0a5f-4e72-abea-665be7ee91c2",
   "metadata": {},
   "outputs": [],
   "source": []
  }
 ],
 "metadata": {
  "kernelspec": {
   "display_name": "Python 3 (ipykernel)",
   "language": "python",
   "name": "python3"
  },
  "language_info": {
   "codemirror_mode": {
    "name": "ipython",
    "version": 3
   },
   "file_extension": ".py",
   "mimetype": "text/x-python",
   "name": "python",
   "nbconvert_exporter": "python",
   "pygments_lexer": "ipython3",
   "version": "3.10.9"
  }
 },
 "nbformat": 4,
 "nbformat_minor": 5
}
