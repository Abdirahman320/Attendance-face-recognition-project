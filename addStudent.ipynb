{
 "cells": [
  {
   "cell_type": "code",
   "execution_count": 19,
   "id": "dc22d42c-d569-4243-bdad-48e3afde683d",
   "metadata": {},
   "outputs": [
    {
     "name": "stdout",
     "output_type": "stream",
     "text": [
      "✅ Student added successfully to BCS15B in CS department under FOC.\n"
     ]
    }
   ],
   "source": [
    "import firebase_admin\n",
    "from firebase_admin import credentials, firestore\n",
    "\n",
    "# === Firebase Init ===\n",
    "cred = credentials.Certificate(\"serviceAccountKey.json\")\n",
    "if not firebase_admin._apps:\n",
    "    firebase_admin.initialize_app(cred)\n",
    "\n",
    "db = firestore.client()\n",
    "\n",
    "# === Step 1: Get Faculty ID by name\n",
    "faculty_doc = next(\n",
    "    db.collection(\"faculties\").where(\"Name\", \"==\", \"FOC\").limit(1).stream(),\n",
    "    None\n",
    ")\n",
    "if not faculty_doc:\n",
    "    raise Exception(\"❌ Faculty 'FOC' not found\")\n",
    "faculty_id = faculty_doc.id\n",
    "\n",
    "# === Step 2: Get Department ID by name\n",
    "dept_doc = next(\n",
    "    db.collection(\"faculties\").document(faculty_id)\n",
    "      .collection(\"departments\").where(\"Name\", \"==\", \"CS\").limit(1).stream(),\n",
    "    None\n",
    ")\n",
    "if not dept_doc:\n",
    "    raise Exception(\"❌ Department 'CS' not found\")\n",
    "dept_id = dept_doc.id\n",
    "\n",
    "# === Step 3: Get Class ID by name\n",
    "class_doc = next(\n",
    "    db.collection(\"faculties\").document(faculty_id)\n",
    "      .collection(\"departments\").document(dept_id)\n",
    "      .collection(\"classes\").where(\"Name\", \"==\", \"BCS15B\").limit(1).stream(),\n",
    "    None\n",
    ")\n",
    "if not class_doc:\n",
    "    raise Exception(\"❌ Class 'BCS15B' not found\")\n",
    "class_id = class_doc.id\n",
    "\n",
    "# === Step 4: Add Student\n",
    "student_data = {\n",
    "    \"student_id\": \"CS113\",\n",
    "    \"full_name\": \"zakariye_said_abdulahi\",\n",
    "    \"department\": \"CS\",\n",
    "    \"class\": \"BCS15B\",\n",
    "    \"faculty\": \"FOC\",\n",
    "    \"status\": \"Active\",\n",
    "}\n",
    "\n",
    "db.collection(\"faculties\").document(faculty_id) \\\n",
    "  .collection(\"departments\").document(dept_id) \\\n",
    "  .collection(\"classes\").document(class_id) \\\n",
    "  .collection(\"students\").add(student_data)\n",
    "\n",
    "print(\"✅ Student added successfully to BCS15B in CS department under FOC.\")\n"
   ]
  },
  {
   "cell_type": "code",
   "execution_count": null,
   "id": "5852ae53-6bfc-4d7d-8a02-2efcc06b16e7",
   "metadata": {},
   "outputs": [],
   "source": []
  }
 ],
 "metadata": {
  "kernelspec": {
   "display_name": "Python 3 (ipykernel)",
   "language": "python",
   "name": "python3"
  },
  "language_info": {
   "codemirror_mode": {
    "name": "ipython",
    "version": 3
   },
   "file_extension": ".py",
   "mimetype": "text/x-python",
   "name": "python",
   "nbconvert_exporter": "python",
   "pygments_lexer": "ipython3",
   "version": "3.10.9"
  }
 },
 "nbformat": 4,
 "nbformat_minor": 5
}
