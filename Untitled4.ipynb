{
 "cells": [
  {
   "cell_type": "code",
   "execution_count": 2,
   "id": "e1f36483-44da-4521-b320-6127241264f8",
   "metadata": {},
   "outputs": [
    {
     "name": "stdout",
     "output_type": "stream",
     "text": [
      "{'error': 'Numpy is not available'}\n"
     ]
    }
   ],
   "source": [
    "\n",
    "import base64, requests\n",
    "\n",
    "with open(\"C:/Users/abdirahman/Downloads/najiib.jpg\", \"rb\") as f:\n",
    "    img_b64 = base64.b64encode(f.read()).decode('utf-8')\n",
    "\n",
    "session_meta = {\n",
    "    \"faculty_id\": \"FAC123\",\n",
    "    \"department_id\": \"DEP123\",\n",
    "    \"class_id\": \"CLASS1\",\n",
    "    \"course_id\": \"COURSE1\",\n",
    "    \"id\": \"SESSION1\"\n",
    "}\n",
    "\n",
    "res = requests.post(\"http://127.0.0.1:5000/api/recognize\",\n",
    "                    json={\"image\": img_b64, \"session\": session_meta})\n",
    "\n",
    "print(res.json())"
   ]
  },
  {
   "cell_type": "code",
   "execution_count": null,
   "id": "33cfcb63-3fe7-4231-badd-e88d659957c3",
   "metadata": {},
   "outputs": [],
   "source": []
  }
 ],
 "metadata": {
  "kernelspec": {
   "display_name": "Python 3 (ipykernel)",
   "language": "python",
   "name": "python3"
  },
  "language_info": {
   "codemirror_mode": {
    "name": "ipython",
    "version": 3
   },
   "file_extension": ".py",
   "mimetype": "text/x-python",
   "name": "python",
   "nbconvert_exporter": "python",
   "pygments_lexer": "ipython3",
   "version": "3.10.9"
  }
 },
 "nbformat": 4,
 "nbformat_minor": 5
}
